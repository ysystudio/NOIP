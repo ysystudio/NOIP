{
 "cells": [
  {
   "cell_type": "markdown",
   "metadata": {},
   "source": [
    "# 第一章 熟悉环境"
   ]
  },
  {
   "cell_type": "code",
   "execution_count": 1,
   "metadata": {},
   "outputs": [
    {
     "name": "stdout",
     "output_type": "stream",
     "text": [
      "我的名字是 \n"
     ]
    }
   ],
   "source": [
    "name =input(\"what's your name\")\n",
    "print(\"我的名字是\",name * 5)"
   ]
  },
  {
   "cell_type": "markdown",
   "metadata": {},
   "source": [
    "# 第二章 海龟作图"
   ]
  },
  {
   "cell_type": "markdown",
   "metadata": {},
   "source": [
    "第一节 Using turtle graphics in python"
   ]
  },
  {
   "cell_type": "code",
   "execution_count": null,
   "metadata": {},
   "outputs": [],
   "source": [
    "import turtle as t\n",
    "t.TurtleScreen._RUNNING = True\n",
    "t.speed(0)\n",
    "for x in range(100):\n",
    "    t.forward(4*x)\n",
    "    t.left(68) \n"
   ]
  },
  {
   "cell_type": "code",
   "execution_count": null,
   "metadata": {},
   "outputs": [],
   "source": [
    "import  turtle\n",
    "t = turtle.Pen()\n",
    "for x in range(100):\n",
    "    t.forward(x)\n",
    "    t.left(90)                                        "
   ]
  },
  {
   "cell_type": "markdown",
   "metadata": {},
   "source": [
    "第二节 加一点变化 37.54"
   ]
  },
  {
   "cell_type": "code",
   "execution_count": null,
   "metadata": {},
   "outputs": [],
   "source": [
    "import turtle\n",
    "t = turtle.Pen( )\n",
    "t.speed(0)\n",
    "for x in range(100):\n",
    "    t.forward(  x )\n",
    "    t.left(121)\n",
    "\n",
    "\n",
    "turtle.done()\n"
   ]
  },
  {
   "cell_type": "markdown",
   "metadata": {},
   "source": [
    "第三节 加一点颜色,  1-10课时结束"
   ]
  },
  {
   "cell_type": "code",
   "execution_count": null,
   "metadata": {},
   "outputs": [],
   "source": [
    "import turtle\n",
    "t = turtle.Pen( )\n",
    "t.speed(0)\n",
    "t.width(2)\n",
    "t.pencolor(\"lightblue\")\n",
    "for x in range(200):\n",
    "    t.forward( 3* x )\n",
    "    t.left(288)\n",
    "t.home()\n",
    "for x in range(200):\n",
    "    t.forward( 3* x )\n",
    "    t.left(72)\n",
    "\n",
    "turtle.done()"
   ]
  },
  {
   "cell_type": "markdown",
   "metadata": {},
   "source": [
    " 第四节  环形螺旋线"
   ]
  },
  {
   "cell_type": "code",
   "execution_count": null,
   "metadata": {},
   "outputs": [],
   "source": [
    "import turtle\n",
    "t = turtle.Pen( )\n",
    "t.speed(0)\n",
    "turtle.bgcolor(\"black\")\n",
    "colors=['red', 'yellow', 'blue', 'green']\n",
    "for x in range(200):\n",
    "    t.color(colors[x%4])\n",
    "    t.width(2)\n",
    "    t.forward( 3* x )\n",
    "    t.left(144)\n",
    "turtle.done()"
   ]
  },
  {
   "cell_type": "markdown",
   "metadata": {},
   "source": [
    "第三章 数字和变量 ：用python做数学运算"
   ]
  },
  {
   "cell_type": "markdown",
   "metadata": {},
   "source": [
    "第一节 变量：程序是这样记忆的, 22:49"
   ]
  },
  {
   "cell_type": "code",
   "execution_count": null,
   "metadata": {},
   "outputs": [],
   "source": [
    "my_name = \"Bryson\"\n",
    "x = 5\n",
    "x = 9"
   ]
  },
  {
   "cell_type": "markdown",
   "metadata": {},
   "source": [
    " 第三节 “语法错误”"
   ]
  },
  {
   "cell_type": "markdown",
   "metadata": {},
   "source": [
    "第四节 字符串与文本"
   ]
  },
  {
   "cell_type": "code",
   "execution_count": null,
   "metadata": {},
   "outputs": [],
   "source": [
    "your_name = input(\"你叫什么名字？\")\n",
    "print (\"谢谢你，\",your_name,\"。\")"
   ]
  },
  {
   "cell_type": "markdown",
   "metadata": {},
   "source": [
    "第五节 24点 finish10~20"
   ]
  },
  {
   "cell_type": "code",
   "execution_count": null,
   "metadata": {},
   "outputs": [],
   "source": [
    "# Calculator.py\n",
    "print(\"Calculator.py\")\n",
    "print()\n",
    "problem=input(\"Enter a math problem, or 'q' to quit:\")\n",
    "while (problem != 'q'):\n",
    "    print(\"The answer to \", problem, \"is:\", eval(problem))\n",
    "    problem=input(\"Enter a math problem, or 'q' to quit:\")"
   ]
  },
  {
   "cell_type": "markdown",
   "metadata": {},
   "source": [
    "第六节 列表与颜色"
   ]
  },
  {
   "cell_type": "code",
   "execution_count": null,
   "metadata": {},
   "outputs": [],
   "source": [
    "a = [1,2,3]\n",
    "b = {1:[1,2,3,4],2:'b',3:'c','name':\"alan\"}\n",
    "c = (1,2,3)\n",
    "\n",
    "# print(type(a),type(b),type(c))\n",
    "print(b[1])"
   ]
  },
  {
   "cell_type": "markdown",
   "metadata": {},
   "source": [
    "第七节 变量和螺旋16:32"
   ]
  },
  {
   "cell_type": "code",
   "execution_count": null,
   "metadata": {},
   "outputs": [],
   "source": [
    "import turtle\n",
    "t = turtle.Pen( )\n",
    "t.speed(0)\n",
    "turtle.bgcolor(\"black\")\n",
    "sides=int(input(\"How many sides in your spiral? \"))\n",
    "colors=['red', 'yellow', 'blue', 'green','orange']\n",
    "for x in range(200):\n",
    "    t.color(colors[x % sides% len(colors)])\n",
    "    t.forward( x )\n",
    "    t.left(360/sides +1)\n",
    "    t.width(x*sides/100)\n",
    "turtle.done()"
   ]
  },
  {
   "cell_type": "markdown",
   "metadata": {},
   "source": [
    "第八章 本章总结"
   ]
  },
  {
   "cell_type": "markdown",
   "metadata": {},
   "source": [
    "第十节 挑战答案"
   ]
  },
  {
   "cell_type": "code",
   "execution_count": null,
   "metadata": {},
   "outputs": [],
   "source": [
    "\n",
    "import turtle\n",
    "t = turtle.Pen( )\n",
    "t.speed(0)\n",
    "turtle.bgcolor(\"black\")\n",
    "sides=int(input(\"How many sides in your spiral? \"))\n",
    "colors=['red', 'yellow', 'blue', 'green','orange']\n",
    "for x in range(200):\n",
    "    t.color(colors[x%5])\n",
    "    t.circle( x )\n",
    "    t.left(360/sides +1)\n",
    "    t.width(x*sides/100)\n",
    "turtle.done()"
   ]
  },
  {
   "cell_type": "markdown",
   "metadata": {},
   "source": [
    "第四章 有趣的循环\n",
    "第一节 构建自己的循环"
   ]
  },
  {
   "cell_type": "code",
   "execution_count": null,
   "metadata": {},
   "outputs": [],
   "source": [
    "list(range(10))\n",
    "list(range(17))"
   ]
  },
  {
   "cell_type": "markdown",
   "metadata": {},
   "source": [
    "第二节 for循环玫瑰花瓣39:52"
   ]
  },
  {
   "cell_type": "code",
   "execution_count": null,
   "metadata": {},
   "outputs": [],
   "source": [
    "import turtle\n",
    "t=turtle.Pen()\n",
    "t.speed(0)\n",
    "for x in range(30):\n",
    "    t.width(2)\n",
    "    t.color(\"blue\")\n",
    "    t.circle(50)\n",
    "    t.right(12)\n",
    "for x in range(30):\n",
    "    t.width(3)\n",
    "    t.color(\"green\")\n",
    "    t.circle(75)\n",
    "    t.right(12)\n",
    "for x in range(30):\n",
    "    t.width(4)\n",
    "    t.color(\"red\")   \n",
    "    t.circle(100)\n",
    "    t.right(12)\n",
    "for x in range(30):\n",
    "    t.width(5)\n",
    "    t.color(\"orange\")\n",
    "    t.circle(125)\n",
    "    t.right(12)\n",
    "\n",
    "turtle.done()"
   ]
  },
  {
   "cell_type": "markdown",
   "metadata": {},
   "source": [
    "第三节 for循环： “你的名字” 3.0"
   ]
  },
  {
   "cell_type": "code",
   "execution_count": null,
   "metadata": {},
   "outputs": [],
   "source": [
    "name=input(\"你叫什么名字？\")\n",
    "for x in range(100):\n",
    "    print(name, end=\" \")"
   ]
  },
  {
   "cell_type": "code",
   "execution_count": null,
   "metadata": {},
   "outputs": [],
   "source": [
    "import turtle\n",
    "t = turtle.Pen( )\n",
    "t.speed(0)\n",
    "turtle.bgcolor(\"black\")\n",
    "colors=['red', 'yellow', 'blue', 'green','orange']\n",
    "\n",
    "your_name=turtle.textinput(\"Enter your name\", \"你叫什么名字？\")\n",
    "\n",
    "for x in range(100):\n",
    "    t.color(colors[x%5])\n",
    "    t.penup()\n",
    "    t.forward(x*2)\n",
    "    t.pendown()\n",
    "    t.write(your_name, font=(\"Times\", int(10 + x / 3), \"bold\"))\n",
    "    t.left(30)\n",
    "turtle.done()"
   ]
  },
  {
   "cell_type": "markdown",
   "metadata": {},
   "source": [
    "第四节 while循环： \"你的名字\" 4.0  50:50"
   ]
  },
  {
   "cell_type": "code",
   "execution_count": null,
   "metadata": {},
   "outputs": [],
   "source": [
    "name=input(\"What is your name?\")\n",
    "while name !=\"\":\n",
    "    for x in range(100):\n",
    "        print(name, end=\" \")\n",
    "    print()\n",
    "    name=input(\"Type in another name, or just hit [ENTER] to end:\")\n",
    "print(\"Thanks for playing!\")    \n",
    "        "
   ]
  },
  {
   "cell_type": "code",
   "execution_count": null,
   "metadata": {},
   "outputs": [],
   "source": [
    "import turtle\n",
    "turtle.bgcolor(\"black\")\n",
    "t=turtle.Pen()\n",
    "t.speed(0)\n",
    "colors=['red','yellow','blue','green','orange','purple','white','brown','gray','pink']\n",
    "family=[]\n",
    "name=turtle.textinput(\"My family\",\"Enter a name, or just hit [ENTER] to end:\")\n",
    "while name !=\"\":\n",
    "    family.append(name)\n",
    "    name = turtle.textinput(\"My family\",\"Enter a name , or just hit [ENTER] to end:\")\n",
    "\n",
    "for x in range(100):\n",
    "    t.color(colors[x % len(family)])\n",
    "    t.penup()\n",
    "    t.forward(x * 4)\n",
    "    t.pendown()\n",
    "    t.write(family[x%len(family)], font=(\"Arial\",int(1+x/4),\"bold\"))\n",
    "    t.left(360/len(family) + 1)\n",
    "turtle.done()"
   ]
  },
  {
   "cell_type": "code",
   "execution_count": null,
   "metadata": {},
   "outputs": [],
   "source": [
    "import sys \n",
    "for i in sys.path:\n",
    "    print(i)"
   ]
  },
  {
   "cell_type": "markdown",
   "metadata": {},
   "source": [
    "1:07:07"
   ]
  }
 ],
 "metadata": {
  "kernelspec": {
   "display_name": "Python 3.8.5 ('base')",
   "language": "python",
   "name": "python3"
  },
  "language_info": {
   "codemirror_mode": {
    "name": "ipython",
    "version": 3
   },
   "file_extension": ".py",
   "mimetype": "text/x-python",
   "name": "python",
   "nbconvert_exporter": "python",
   "pygments_lexer": "ipython3",
   "version": "3.8.5"
  },
  "metadata": {
   "interpreter": {
    "hash": "4c66639b6598ec700a5dbf4d47e66cbf4ac83033edf5fdcfb15ab7b03620ef40"
   }
  },
  "vscode": {
   "interpreter": {
    "hash": "ad2bdc8ecc057115af97d19610ffacc2b4e99fae6737bb82f5d7fb13d2f2c186"
   }
  }
 },
 "nbformat": 4,
 "nbformat_minor": 2
}
