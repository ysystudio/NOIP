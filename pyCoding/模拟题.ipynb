{
 "cells": [
  {
   "cell_type": "code",
   "execution_count": null,
   "metadata": {},
   "outputs": [],
   "source": [
    "# 计算是第几天\n",
    "y = int(input('请输入年'))\n",
    "m = int(input('请输入月'))\n",
    "d = int(input('请输入日'))\n",
    "rq={1:31,2:28,3:31,4:30,5:31,6:30,7:31,8:31,9:30,10:31,11:30,12:31}\n",
    "if m==1:\n",
    "    print(f\"这是{y}年的第{d}\")\n",
    "else:\n",
    "    e=d\n",
    "    for i in range(1,m):\n",
    "        e+=rq[i]\n",
    "    if m >2 and (y%400==0 or (y%4==0 and y%100!=0)):\n",
    "        e+=1\n",
    "    print(f\"这是{y}年的第{e}\")"
   ]
  },
  {
   "cell_type": "code",
   "execution_count": 2,
   "metadata": {},
   "outputs": [
    {
     "name": "stdout",
     "output_type": "stream",
     "text": [
      "{'to': 2, 'be': 2, 'or': 1, 'not': 1, 'this': 1, 'is': 1, 'a': 1, 'question': 1}\n"
     ]
    }
   ],
   "source": [
    "a='to be or not to be this is a question'\n",
    "b=a.split(' ')\n",
    "c = {'to':0,'be':0,'or':0 ,'not':0, 'this':0, 'is':0 ,'a':0, 'question':0}\n",
    "for i in b:\n",
    "    c[i]=b.count(i)\n",
    "print(c)"
   ]
  },
  {
   "cell_type": "code",
   "execution_count": null,
   "metadata": {},
   "outputs": [],
   "source": [
    "a=int(input('请输入一个大、于1的自然数'))\n",
    "b=0\n",
    "while a!=1:\n",
    "    if a%2!=0:\n",
    "        a =a*3+1\n",
    "        b += 1\n",
    "    else:\n",
    "        a /=2\n",
    "        b += 1\n",
    "print(b)  "
   ]
  }
 ],
 "metadata": {
  "kernelspec": {
   "display_name": "Python 3.8.5 ('base')",
   "language": "python",
   "name": "python3"
  },
  "language_info": {
   "codemirror_mode": {
    "name": "ipython",
    "version": 3
   },
   "file_extension": ".py",
   "mimetype": "text/x-python",
   "name": "python",
   "nbconvert_exporter": "python",
   "pygments_lexer": "ipython3",
   "version": "3.8.5"
  },
  "orig_nbformat": 4,
  "vscode": {
   "interpreter": {
    "hash": "ad2bdc8ecc057115af97d19610ffacc2b4e99fae6737bb82f5d7fb13d2f2c186"
   }
  }
 },
 "nbformat": 4,
 "nbformat_minor": 2
}
