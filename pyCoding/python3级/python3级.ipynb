{
 "cells": [
  {
   "cell_type": "markdown",
   "metadata": {},
   "source": [
    "第一章 序列和元组"
   ]
  },
  {
   "cell_type": "code",
   "execution_count": 1,
   "metadata": {},
   "outputs": [
    {
     "name": "stdout",
     "output_type": "stream",
     "text": [
      "[1, 2, 3, 1, 2, 3, 1, 2, 3] ('4', '5', '6', '4', '5', '6', '4', '5', '6') 789789789\n"
     ]
    }
   ],
   "source": [
    "s1=[1,2,3]\n",
    "s2=('4','5','6')\n",
    "s3='789'\n",
    "\n",
    "a3=3\n",
    "print(s1*a3,s2*a3,s3*a3)"
   ]
  },
  {
   "cell_type": "code",
   "execution_count": 7,
   "metadata": {},
   "outputs": [
    {
     "name": "stdout",
     "output_type": "stream",
     "text": [
      "1\n",
      "1\n",
      "2\n",
      "1\n"
     ]
    },
    {
     "ename": "ValueError",
     "evalue": "'6' is not in list",
     "output_type": "error",
     "traceback": [
      "\u001b[1;31m---------------------------------------------------------------------------\u001b[0m",
      "\u001b[1;31mValueError\u001b[0m                                Traceback (most recent call last)",
      "\u001b[1;32m~\\AppData\\Local\\Temp\\ipykernel_40940\\3610563812.py\u001b[0m in \u001b[0;36m<module>\u001b[1;34m\u001b[0m\n\u001b[0;32m      5\u001b[0m \u001b[0mprint\u001b[0m\u001b[1;33m(\u001b[0m\u001b[0mt2\u001b[0m\u001b[1;33m.\u001b[0m\u001b[0mindex\u001b[0m\u001b[1;33m(\u001b[0m\u001b[1;34m'6'\u001b[0m\u001b[1;33m,\u001b[0m\u001b[1;36m1\u001b[0m\u001b[1;33m)\u001b[0m\u001b[1;33m)\u001b[0m\u001b[1;33m\u001b[0m\u001b[1;33m\u001b[0m\u001b[0m\n\u001b[0;32m      6\u001b[0m \u001b[0mprint\u001b[0m\u001b[1;33m(\u001b[0m\u001b[0mt2\u001b[0m\u001b[1;33m.\u001b[0m\u001b[0mindex\u001b[0m\u001b[1;33m(\u001b[0m\u001b[1;34m'5'\u001b[0m\u001b[1;33m,\u001b[0m\u001b[1;36m1\u001b[0m\u001b[1;33m,\u001b[0m\u001b[1;36m2\u001b[0m\u001b[1;33m)\u001b[0m\u001b[1;33m)\u001b[0m\u001b[1;33m\u001b[0m\u001b[1;33m\u001b[0m\u001b[0m\n\u001b[1;32m----> 7\u001b[1;33m \u001b[0mprint\u001b[0m\u001b[1;33m(\u001b[0m\u001b[0mt2\u001b[0m\u001b[1;33m.\u001b[0m\u001b[0mindex\u001b[0m\u001b[1;33m(\u001b[0m\u001b[1;34m'6'\u001b[0m\u001b[1;33m,\u001b[0m\u001b[1;36m1\u001b[0m\u001b[1;33m,\u001b[0m\u001b[1;36m2\u001b[0m\u001b[1;33m)\u001b[0m\u001b[1;33m)\u001b[0m\u001b[1;33m\u001b[0m\u001b[1;33m\u001b[0m\u001b[0m\n\u001b[0m",
      "\u001b[1;31mValueError\u001b[0m: '6' is not in list"
     ]
    }
   ],
   "source": [
    "t1=('a','b','c')\n",
    "t2=['4','5','6']\n",
    "print(t1.count('a'))\n",
    "print(t1.count('b'))\n",
    "print(t2.index('6',1))\n",
    "print(t2.index('5',1,2))\n",
    "print(t2.index('6',1,2))"
   ]
  },
  {
   "cell_type": "code",
   "execution_count": 8,
   "metadata": {},
   "outputs": [
    {
     "name": "stdout",
     "output_type": "stream",
     "text": [
      "('甲', '乙', '丙')\n",
      "('甲', '乙', '丙', '丁', '戊')\n",
      "('甲', '乙', '丙', '丁', '甲', '乙', '丙', '丁')\n"
     ]
    }
   ],
   "source": [
    "s1=('甲','乙','丙','丁')\n",
    "print(s1[0:3])\n",
    "s2=('戊',)\n",
    "print(s1+s2)\n",
    "#del(s1)\n",
    "print(s1*2)"
   ]
  },
  {
   "cell_type": "markdown",
   "metadata": {},
   "source": [
    "第二章 集合类型"
   ]
  },
  {
   "cell_type": "code",
   "execution_count": 10,
   "metadata": {},
   "outputs": [
    {
     "name": "stdout",
     "output_type": "stream",
     "text": [
      "<class 'set'> {1, 2, 3, 4}\n",
      "<class 'dict'> {}\n",
      "set()\n",
      "{'2', '3', '6', '8', '4'}\n",
      "{'banana', 'apple', 'pear'}\n",
      "{'banana', 'apple', 'pear'}\n",
      "{'banana', 'apple', 'pear'} <class 'str'>\n",
      "('banana', 'apple', 'pear')\n",
      "['banana', 'apple', 'pear']\n"
     ]
    }
   ],
   "source": [
    "num={1,2,3,4}\n",
    "dempty={}\n",
    "sEmpty=set()#创建空集合时不能使用’{}'\n",
    "double=set('23468')\n",
    "word=set(['apple','pear','banana'])\n",
    "word1=set(('apple','pear','banana'))\n",
    "print(type(num), num)\n",
    "print(type(dempty), dempty)\n",
    "print(sEmpty)\n",
    "print(double)\n",
    "print(word)\n",
    "print(word1)\n",
    "\n",
    "s=str(word)##\n",
    "t=tuple(word)\n",
    "l=list(word)\n",
    "print(s,type(s))\n",
    "print(t)\n",
    "print(l)"
   ]
  },
  {
   "cell_type": "code",
   "execution_count": 6,
   "metadata": {},
   "outputs": [
    {
     "name": "stdout",
     "output_type": "stream",
     "text": [
      "{1, 2, 3, 4, 5, 6, 7} {1, 2, 3, 4} {4, 5, 6, 7}\n",
      "{1, 2, 3, 4, 5, 6, 7} {1, 2, 3, 4} {4, 5, 6, 7}\n",
      "{1, 2, 3, 4, 5, 6, 7} {4, 5, 6, 7}\n",
      "None [1, 2]\n"
     ]
    }
   ],
   "source": [
    "a={1,2,3,4}\n",
    "b={4,5,6,7}\n",
    "print(a|b,a,b)\n",
    "print(a.union(b),a,b)\n",
    "a|=b\n",
    "print(a,b)\n",
    "c =[1,1,2]\n",
    "print(c.remove(1),c)"
   ]
  },
  {
   "cell_type": "code",
   "execution_count": 14,
   "metadata": {},
   "outputs": [
    {
     "name": "stdout",
     "output_type": "stream",
     "text": [
      "{1, 2, 3, 4} {1, 2, 3, 4} {1, 2, 3, 4}\n",
      "2474281367584 2474281367584 2474281368032\n",
      "{2, 3, 4} {2, 3, 4} {1, 2, 3, 4}\n"
     ]
    }
   ],
   "source": [
    "a={1,2,3,4}\n",
    "b = a\n",
    "c=a.copy()\n",
    "\n",
    "print(a,b,c)\n",
    "print(id(a),id(b),id(c))\n",
    "a.pop()\n",
    "print(a,b,c)"
   ]
  },
  {
   "cell_type": "code",
   "execution_count": null,
   "metadata": {},
   "outputs": [],
   "source": []
  },
  {
   "cell_type": "markdown",
   "metadata": {},
   "source": [
    "第三章 字典类型"
   ]
  },
  {
   "cell_type": "code",
   "execution_count": 15,
   "metadata": {},
   "outputs": [
    {
     "name": "stdout",
     "output_type": "stream",
     "text": [
      "李白 山阴之秋\n",
      "杜甫 江南\n",
      "杜牧 西江月\n",
      "白居易 菩萨蛮\n",
      "--------------------\n",
      "山阴之秋\n",
      "江南\n",
      "西江月\n",
      "菩萨蛮\n",
      "--------------------\n",
      "李白\n",
      "杜甫\n",
      "杜牧\n",
      "白居易\n",
      "--------------------\n",
      "('李白', '山阴之秋')\n",
      "('杜甫', '江南')\n",
      "('杜牧', '西江月')\n",
      "('白居易', '菩萨蛮')\n",
      "True\n",
      "True\n",
      "True\n",
      "True\n",
      "[('李白', '山阴之秋'), ('杜牧', '西江月'), ('杜甫', '江南'), ('白居易', '菩萨蛮')]\n",
      "{'李白': 'k', '杜甫': '江南', '杜牧': '西江月'}\n",
      "{'李白': 'k', '杜甫': '江南'}\n",
      "{'李白': 'k'}\n",
      "{}\n"
     ]
    }
   ],
   "source": [
    "poet={'李白':'山阴之秋','杜甫':'江南','杜牧':'西江月','白居易':'菩萨蛮'}\n",
    "for i in poet:\n",
    "    print(i,poet.get(i))\n",
    "print('-'*20)\n",
    "for i in poet.values():\n",
    "    print(i)  \n",
    "print('-'*20)\n",
    "for i in poet.keys():\n",
    "    print(i) \n",
    "print('-'*20)\n",
    "for i in poet.items():\n",
    "    print(i) \n",
    "print('李白'in poet)\n",
    "print('李白'in poet.keys())\n",
    "print('江南'in poet.values())\n",
    "print(('杜甫','江南') in poet.items())\n",
    "    \n",
    "#字典的排序\n",
    "poet={'李白':'山阴之秋','杜甫':'江南','杜牧':'西江月','白居易':'菩萨蛮'}\n",
    "print(sorted(poet.items(),key=lambda x:x[0]))\n",
    "poet['李白'] = \"k\"\n",
    "x=len(poet)\n",
    "for i in range(x):\n",
    "    poet.popitem()\n",
    "    print(poet)    \n",
    "    \n",
    "\n"
   ]
  },
  {
   "cell_type": "markdown",
   "metadata": {},
   "source": [
    "第四章 数据维度"
   ]
  },
  {
   "cell_type": "markdown",
   "metadata": {},
   "source": [
    "第五章 一维数据处理"
   ]
  },
  {
   "cell_type": "code",
   "execution_count": 6,
   "metadata": {},
   "outputs": [
    {
     "name": "stdout",
     "output_type": "stream",
     "text": [
      "['98', '78', '84', '72', '93', '95']\n",
      "98、78、84、72、93、95\n"
     ]
    }
   ],
   "source": [
    "a='98,78,84,72,93,95'\n",
    "a = a.split(',')\n",
    "print(a)\n",
    "b='、'.join(a)\n",
    "print(b)\n",
    "# f =open('python等级考试三级','w')\n",
    "# f.write(b)\n",
    "# f.close()\n",
    "\n"
   ]
  },
  {
   "cell_type": "markdown",
   "metadata": {},
   "source": [
    "第六章 二维数据处理"
   ]
  },
  {
   "cell_type": "code",
   "execution_count": 16,
   "metadata": {},
   "outputs": [
    {
     "name": "stdout",
     "output_type": "stream",
     "text": [
      "[['姓名', '年龄', '身高', '体重', '分数'], ['李志雨', '20', '184', '65', '9'], ['王家益', '19', '165', '5.1', '9.5'], ['李恒涛', '21', '175', '68', '8.8']]\n",
      "{'姓名': '李志雨', '年龄': '20', '身高': '184', '体重': '65', '分数': '9'}\n",
      "{'姓名': '王家益', '年龄': '19', '身高': '165', '体重': '5.1', '分数': '9.5'}\n",
      "{'姓名': '李恒涛', '年龄': '21', '身高': '175', '体重': '68', '分数': '8.8'}\n"
     ]
    }
   ],
   "source": [
    "message2=[\n",
    "    ['姓名','年龄','身高','体重','分数'],\n",
    "    ['李志雨','20','184','65','9'],\n",
    "    ['王家益','19','165','5.1','9.5'],\n",
    "    ['李恒涛','21','175','68','8.8']\n",
    "]\n",
    "f=open('考试信息.csv','w')\n",
    "for i in message2:\n",
    "    f.write(','.join(i)+'\\n')\n",
    "f.close()    \n",
    "    \n",
    "ls1=[]\n",
    "f=open('考试信息.csv','r')\n",
    "for i in f:\n",
    "    l=  i.strip().split(',')\n",
    "    ls1.append(l)\n",
    "f.close()\n",
    "print(ls1)\n",
    "\n",
    "import csv\n",
    "f=open('考试信息.csv','r')\n",
    "reader=csv.DictReader(f)\n",
    "for i in reader:\n",
    "    print(i)\n",
    "f.close()"
   ]
  },
  {
   "cell_type": "code",
   "execution_count": 11,
   "metadata": {},
   "outputs": [
    {
     "name": "stdout",
     "output_type": "stream",
     "text": [
      "体重\n",
      "65\n",
      "5.1\n",
      "68\n"
     ]
    }
   ],
   "source": [
    "import csv\n",
    "message2=[\n",
    "    ['姓名','年龄','身高','体重','分数'],\n",
    "    ['李志雨','20','184','65','9'],\n",
    "    ['王家益','19','165','5.1','9.5'],\n",
    "    ['李恒涛','21','175','68','8.8']\n",
    "]\n",
    "f=open('城市人口.csv','w',newline='')\n",
    "writer=csv.writer(f)\n",
    "writer.writerows(message2)\n",
    "f.close()\n",
    "\n",
    "f=open('城市人口.csv','r')\n",
    "reader=csv.reader(f)\n",
    "for i in reader:\n",
    "    if not i: \n",
    "        print(i)\n",
    "        continue \n",
    "    print(i[3])\n",
    "f.close()\n",
    "\n",
    "\n"
   ]
  },
  {
   "cell_type": "markdown",
   "metadata": {},
   "source": [
    "第七章 高维数据处理"
   ]
  },
  {
   "cell_type": "code",
   "execution_count": 12,
   "metadata": {},
   "outputs": [
    {
     "name": "stdout",
     "output_type": "stream",
     "text": [
      "[\"apple\", \"pear\", \"banana\"] <class 'str'>\n"
     ]
    }
   ],
   "source": [
    "import json\n",
    "l1=['apple','pear','banana']\n",
    "j0=json.dumps(l1)\n",
    "print(j0,type(j0))"
   ]
  },
  {
   "cell_type": "markdown",
   "metadata": {},
   "source": [
    "第八章 文本处理"
   ]
  },
  {
   "cell_type": "code",
   "execution_count": 18,
   "metadata": {},
   "outputs": [
    {
     "name": "stdout",
     "output_type": "stream",
     "text": [
      "<re.Match object; span=(0, 3), match='012'> None <re.Match object; span=(3, 6), match='012'>\n",
      "<re.Match object; span=(0, 22), match='Stphen William Hawking'> ('Stphen', 'William', 'Hawking')\n",
      "<re.Match object; span=(0, 22), match='Stphen William Hawking'> ()\n",
      "[' ', ' ', ',', ' ', '.', '爱', '屋', '及', '乌']\n",
      "['Wooow', 'you are so cute!']\n"
     ]
    }
   ],
   "source": [
    "'''正则表达式实例\n",
    "字符匹配\n",
    "实例\t    描述\n",
    "python\t    匹配 \"python\".\n",
    "字符类\n",
    "实例\t     描述\n",
    "[Pp]ython\t匹配 \"Python\" 或 \"python\"\n",
    "rub[ye]\t    匹配 \"ruby\" 或 \"rube\"\n",
    "[aeiou]\t    匹配中括号内的任意一个字母\n",
    "[0-9]\t    匹配任何数字。类似于 [0123456789]\n",
    "[a-z]\t    匹配任何小写字母\n",
    "[A-Z]\t    匹配任何大写字母\n",
    "[a-zA-Z0-9]\t匹配任何字母及数字\n",
    "[^aeiou]\t除了aeiou字母以外的所有字符\n",
    "[^0-9]\t    匹配除了数字外的字符\n",
    "特殊字符类\n",
    "实例\t     描述\n",
    ".\t        匹配除 \"\\n\" 之外的任何单个字符。要匹配包括 '\\n' 在内的任何字符，请使用象 '[.\\n]' 的模式。\n",
    "\\d\t        匹配一个数字字符。等价于 [0-9]。\n",
    "\\D\t        匹配一个非数字字符。等价于 [^0-9]。\n",
    "\\s\t        匹配任何空白字符，包括空格、制表符、换页符等等。等价于 [ \\f\\n\\r\\t\\v]。\n",
    "\\S\t        [^ \\f\\n\\r\\t\\v]。\n",
    "\\w\t        匹配包括下划线的任何单词字符。等价于'[A-Za-z0-9_]'。\n",
    "\\W\t        匹配任何非单词字符。等价于 '[^A-Za-z0-9_]'。\n",
    "\n",
    "\n",
    "\n",
    "模式\t描述\n",
    "^\t匹配字符串的开头\n",
    "$\t匹配字符串的末尾。\n",
    ".\t匹配任意字符，除了换行符，当re.DOTALL标记被指定时，则可以匹配包括换行符的任意字符。\n",
    "[...]\t用来表示一组字符,单独列出：[amk] 匹配 'a'，'m'或'k'\n",
    "[^...]\t不在[]中的字符：[^abc] 匹配除了a,b,c之外的字符。\n",
    "re*\t匹配0个或多个的表达式。\n",
    "re+\t匹配1个或多个的表达式。\n",
    "re?\t匹配0个或1个由前面的正则表达式定义的片段，非贪婪方式\n",
    "re{ n}\t \n",
    "re{ n,}\t精确匹配n个前面表达式。\n",
    "re{ n, m}\t匹配 n 到 m 次由前面的正则表达式定义的片段，贪婪方式\n",
    "a| b\t匹配a或b\n",
    "(re)\tG匹配括号内的表达式，也表示一个组\n",
    "(?imx)\t正则表达式包含三种可选标志：i, m, 或 x 。只影响括号中的区域。\n",
    "(?-imx)\t正则表达式关闭 i, m, 或 x 可选标志。只影响括号中的区域。\n",
    "(?: re)\t类似 (...), 但是不表示一个组\n",
    "(?imx: re)\t在括号中使用i, m, 或 x 可选标志\n",
    "(?-imx: re)\t在括号中不使用i, m, 或 x 可选标志\n",
    "(?#...)\t注释.\n",
    "(?= re)\t前向肯定界定符。如果所含正则表达式，以 ... 表示，在当前位置成功匹配时成功，否则失败。但一旦所含表达式已经尝试，匹配引擎根本没有提高；模式的剩余部分还要尝试界定符的右边。\n",
    "(?! re)\t前向否定界定符。与肯定界定符相反；当所含表达式不能在字符串当前位置匹配时成功\n",
    "(?> re)\t匹配的独立模式，省去回溯。\n",
    "\\w\t匹配字母数字\n",
    "\\W\t匹配非字母数字\n",
    "\\s\t匹配任意空白字符，等价于 [\\t\\n\\r\\f].\n",
    "\\S\t匹配任意非空字符\n",
    "\\d\t匹配任意数字，等价于 [0-9].\n",
    "\\D\t匹配任意非数字\n",
    "\\A\t匹配字符串开始\n",
    "\\Z\t匹配字符串结束，如果是存在换行，只匹配到换行前的结束字符串。c\n",
    "\\z\t匹配字符串结束\n",
    "\\G\t匹配最后匹配完成的位置。\n",
    "\\b\t匹配一个单词边界，也就是指单词和空格间的位置。例如， 'er\\b' 可以匹配\"never\" 中的 'er'，但不能匹配 \"verb\" 中的 'er'。\n",
    "\\B\t匹配非单词边界。'er\\B' 能匹配 \"verb\" 中的 'er'，但不能匹配 \"never\" 中的 'er'。\n",
    "\\n, \\t, 等.\t匹配一个换行符。匹配一个制表符。等\n",
    "\\1...\\9\t匹配第n个分组的子表达式。\n",
    "\\10\t匹配第n个分组的子表达式，如果它经匹配。否则指的是八进制字符码的表达式\n",
    "'''\n",
    "\n",
    "import re \n",
    "dn=r'\\d{3}'\n",
    "a=re.match(dn,'0123木头人')\n",
    "b=re.match(dn,'木头人123')\n",
    "c=re.search(dn,'木头人0123')\n",
    "print(a,b,c)\n",
    "\n",
    "s='Stphen William Hawking, physicist'\n",
    "m=re.match(r'(\\w+) (\\w+) (\\w+)',s)\n",
    "n=re.match(r'\\w+ \\w+ \\w+',s)\n",
    "print(m,m.groups())\n",
    "print(n,n.groups())\n",
    "\n",
    "prog=re.compile('[^a-zA-Z]')#匹配非字母\n",
    "sentence='Stphen William Hawking, physicist.爱屋及乌'\n",
    "result=re.findall(prog,sentence)\n",
    "print(result)\n",
    "\n",
    "w='Wooow, you are so cute!'\n",
    "t=re.split(r'\\W{2}',w)\n",
    "print(t)"
   ]
  },
  {
   "cell_type": "markdown",
   "metadata": {},
   "source": [
    "第九章 数据爬取"
   ]
  },
  {
   "cell_type": "code",
   "execution_count": null,
   "metadata": {},
   "outputs": [],
   "source": []
  },
  {
   "cell_type": "markdown",
   "metadata": {},
   "source": [
    "第十章 HTML数据"
   ]
  },
  {
   "cell_type": "code",
   "execution_count": 19,
   "metadata": {},
   "outputs": [
    {
     "name": "stdout",
     "output_type": "stream",
     "text": [
      "<title>百度一下，你就知道</title>\n",
      "<img height=\"129\" hidefocus=\"true\" src=\"//www.baidu.com/img/bd_logo1.png\" width=\"270\"/>\n",
      "None\n",
      "div\n",
      "None\n"
     ]
    }
   ],
   "source": [
    "import requests\n",
    "from bs4 import BeautifulSoup\n",
    "r=requests.get('http://www.baidu.com')\n",
    "r.encoding='utf-8'\n",
    "soup=BeautifulSoup(r.text,features='html.parser')\n",
    "print(soup.title)\n",
    "print(soup.img)\n",
    "\n",
    "for i in soup.find_all('body'):\n",
    "    for c in (i.children):\n",
    "        print(c.name)"
   ]
  },
  {
   "cell_type": "markdown",
   "metadata": {},
   "source": [
    "第十一章 向量数据"
   ]
  },
  {
   "cell_type": "code",
   "execution_count": 20,
   "metadata": {},
   "outputs": [
    {
     "name": "stdout",
     "output_type": "stream",
     "text": [
      "[[[ 1.82196741 -0.87701453]\n",
      "  [ 0.77479499 -0.73294829]\n",
      "  [-0.21812224 -0.07760365]]\n",
      "\n",
      " [[-0.08444392  0.64897603]\n",
      "  [ 1.05813246 -0.38479965]\n",
      "  [ 1.20449951  0.30732903]]\n",
      "\n",
      " [[ 0.24096588 -0.21070922]\n",
      "  [ 0.50449313 -0.67393034]\n",
      "  [ 1.15433096 -0.58265578]]\n",
      "\n",
      " [[ 1.32155975 -1.2367481 ]\n",
      "  [-0.96470751 -0.09255401]\n",
      "  [ 0.36092623  1.82482056]]]\n",
      "********************\n",
      "[[ 1.82196741  0.64897603]\n",
      " [ 1.05813246 -0.09255401]\n",
      " [ 1.20449951  1.82482056]]\n",
      "********************\n",
      "[[ 1.82196741 -0.07760365]\n",
      " [ 1.20449951  0.64897603]\n",
      " [ 1.15433096 -0.21070922]\n",
      " [ 1.32155975  1.82482056]]\n",
      "********************\n",
      "[[ 1.82196741  0.77479499 -0.07760365]\n",
      " [ 0.64897603  1.05813246  1.20449951]\n",
      " [ 0.24096588  0.50449313  1.15433096]\n",
      " [ 1.32155975 -0.09255401  1.82482056]]\n",
      "********************\n",
      "1.8248205550751118\n",
      "[[0. 0. 0.]\n",
      " [0. 0. 0.]]\n",
      "[[1.]\n",
      " [1.]]\n",
      "[[0. 0. 0. 1.]\n",
      " [0. 0. 0. 1.]] (2, 4)\n"
     ]
    }
   ],
   "source": [
    "import numpy as np\n",
    "a=np.random.randn(4,3,2)\n",
    "print(a)\n",
    "print(\"*\"*20)\n",
    "print(np.max(a,axis=0))\n",
    "print(\"*\"*20)\n",
    "print(np.max(a,axis=1))\n",
    "print(\"*\"*20)\n",
    "print(np.max(a,axis=2))\n",
    "print(\"*\"*20)\n",
    "print(np.max(a))\n",
    "\n",
    "o1=np.zeros((2,3))\n",
    "o2=np.ones((2,1))\n",
    "oo=np.concatenate((o1,o2),axis=1)\n",
    "# oo = o1+o2\n",
    "print(o1)\n",
    "print(o2)\n",
    "print(oo,oo.shape)"
   ]
  },
  {
   "cell_type": "markdown",
   "metadata": {},
   "source": [
    "第十二章 图形数据"
   ]
  },
  {
   "cell_type": "code",
   "execution_count": 22,
   "metadata": {},
   "outputs": [],
   "source": [
    "from PIL import Image\n",
    "from PIL import ImageEnhance\n",
    "from PIL import ImageFilter\n",
    "Im=Image.open('1.jpg')\n",
    "im2=Im.filter(ImageFilter.EMBOSS)\n",
    "im3=Im.crop((200,60,470,350))\n",
    "im3.show()\n",
    "Im.show()\n",
    "# im2=ImageEnhance.Color(Im)\n",
    "# im2=ImageEnhance.Contrast(Im)\n",
    "# im3=im2.enhance(10)\n",
    "# im3.show()"
   ]
  },
  {
   "cell_type": "code",
   "execution_count": null,
   "metadata": {},
   "outputs": [],
   "source": [
    "a=int(input('s'))\n",
    "\n",
    "b=0\n",
    "for i in range(10): \n",
    "    if a==1.0:\n",
    "        print(b)\n",
    "    if a%2!=0:\n",
    "        a=a*3+1\n",
    "    a/2\n",
    "    b+1    \n",
    "print(a)\n",
    "    "
   ]
  }
 ],
 "metadata": {
  "kernelspec": {
   "display_name": "Python 3.8.5 ('base')",
   "language": "python",
   "name": "python3"
  },
  "language_info": {
   "codemirror_mode": {
    "name": "ipython",
    "version": 3
   },
   "file_extension": ".py",
   "mimetype": "text/x-python",
   "name": "python",
   "nbconvert_exporter": "python",
   "pygments_lexer": "ipython3",
   "version": "3.9.13"
  },
  "orig_nbformat": 4,
  "vscode": {
   "interpreter": {
    "hash": "ad2bdc8ecc057115af97d19610ffacc2b4e99fae6737bb82f5d7fb13d2f2c186"
   }
  }
 },
 "nbformat": 4,
 "nbformat_minor": 2
}
