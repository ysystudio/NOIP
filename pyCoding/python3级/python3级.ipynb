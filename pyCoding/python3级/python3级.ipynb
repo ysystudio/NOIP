{
 "cells": [
  {
   "cell_type": "markdown",
   "metadata": {},
   "source": [
    "第一章 序列和元组"
   ]
  },
  {
   "cell_type": "code",
   "execution_count": null,
   "metadata": {},
   "outputs": [],
   "source": [
    "s1=[1,2,3]\n",
    "s2=('4','5','6')\n",
    "s3='789'\n",
    "\n",
    "a3=3\n",
    "print(s1*a3,s2*a3,s3*a3)"
   ]
  },
  {
   "cell_type": "code",
   "execution_count": null,
   "metadata": {},
   "outputs": [],
   "source": [
    "t1=('a','b','c')\n",
    "t2=['4','5','6']\n",
    "print(t1.count('a'))\n",
    "print(t1.count('b'))\n",
    "print(t2.index('6',1))\n",
    "print(t2.index('5',1,2))\n",
    "print(t2.index('6',1,2))"
   ]
  },
  {
   "cell_type": "code",
   "execution_count": null,
   "metadata": {},
   "outputs": [],
   "source": [
    "s1=('甲','乙','丙','丁')\n",
    "print(s1[0:3])\n",
    "s2=('戊',)\n",
    "print(s1+s2)\n",
    "#del(s1)\n",
    "print(s1*1)"
   ]
  },
  {
   "cell_type": "markdown",
   "metadata": {},
   "source": [
    "第二章 集合类型"
   ]
  },
  {
   "cell_type": "code",
   "execution_count": 5,
   "metadata": {},
   "outputs": [
    {
     "name": "stdout",
     "output_type": "stream",
     "text": [
      "<class 'set'> {1, 2, 3, 4}\n",
      "set()\n",
      "<class 'dict'> {}\n",
      "{'4', '8', '3', '2', '6'}\n",
      "{'pear', 'apple', 'banana'}\n",
      "{'pear', 'apple', 'banana'}\n",
      "{'pear', 'apple', 'banana'} <class 'str'>\n",
      "('pear', 'apple', 'banana')\n",
      "['pear', 'apple', 'banana']\n"
     ]
    }
   ],
   "source": [
    "num={1,2,3,4}\n",
    "dempty={}\n",
    "sEmpty=set()#创建空集合时不能使用’{}'\n",
    "double=set('23468')\n",
    "word=set(['apple','pear','banana'])\n",
    "word1=set(('apple','pear','banana'))\n",
    "print(type(num), num)\n",
    "print(sEmpty)\n",
    "print(type(dempty), dempty)\n",
    "print(double)\n",
    "print(word)\n",
    "print(word1)\n",
    "\n",
    "s=str(word)\n",
    "t=tuple(word)\n",
    "l=list(word)\n",
    "print(s,type(s))\n",
    "print(t)\n",
    "print(l)"
   ]
  },
  {
   "cell_type": "code",
   "execution_count": 6,
   "metadata": {},
   "outputs": [
    {
     "name": "stdout",
     "output_type": "stream",
     "text": [
      "{1, 2, 3, 4, 5, 6, 7} {1, 2, 3, 4} {4, 5, 6, 7}\n",
      "{1, 2, 3, 4, 5, 6, 7} {1, 2, 3, 4} {4, 5, 6, 7}\n",
      "{1, 2, 3, 4, 5, 6, 7} {4, 5, 6, 7}\n",
      "None [1, 2]\n"
     ]
    }
   ],
   "source": [
    "a={1,2,3,4}\n",
    "b={4,5,6,7}\n",
    "print(a|b,a,b)\n",
    "print(a.union(b),a,b)\n",
    "a|=b\n",
    "print(a,b)\n",
    "c =[1,1,2]\n",
    "print(c.remove(1),c)"
   ]
  },
  {
   "cell_type": "code",
   "execution_count": 7,
   "metadata": {},
   "outputs": [
    {
     "name": "stdout",
     "output_type": "stream",
     "text": [
      "{1, 2, 3, 4} {1, 2, 3, 4} {1, 2, 3, 4}\n",
      "1693914371680 1693914371680 1693914370560\n",
      "{2, 3, 4} {2, 3, 4} {1, 2, 3, 4}\n"
     ]
    }
   ],
   "source": [
    "a={1,2,3,4}\n",
    "b = a\n",
    "c=a.copy()\n",
    "\n",
    "print(a,b,c)\n",
    "print(id(a),id(b),id(c))\n",
    "a.pop()\n",
    "print(a,b,c)"
   ]
  },
  {
   "cell_type": "code",
   "execution_count": null,
   "metadata": {},
   "outputs": [],
   "source": []
  },
  {
   "cell_type": "markdown",
   "metadata": {},
   "source": [
    "第三章 字典类型"
   ]
  },
  {
   "cell_type": "code",
   "execution_count": 9,
   "metadata": {},
   "outputs": [
    {
     "name": "stdout",
     "output_type": "stream",
     "text": [
      "李白 山阴之秋\n",
      "杜甫 江南\n",
      "杜牧 西江月\n",
      "白居易 菩萨蛮\n",
      "--------------------\n",
      "山阴之秋\n",
      "江南\n",
      "西江月\n",
      "菩萨蛮\n",
      "--------------------\n",
      "李白\n",
      "杜甫\n",
      "杜牧\n",
      "白居易\n",
      "--------------------\n",
      "('李白', '山阴之秋')\n",
      "('杜甫', '江南')\n",
      "('杜牧', '西江月')\n",
      "('白居易', '菩萨蛮')\n",
      "True\n",
      "True\n",
      "True\n",
      "True\n",
      "[('李白', '山阴之秋'), ('杜牧', '西江月'), ('杜甫', '江南'), ('白居易', '菩萨蛮')]\n",
      "{'李白': '山阴之秋', '杜甫': '江南', '杜牧': '西江月'}\n",
      "{'李白': '山阴之秋', '杜甫': '江南'}\n",
      "{'李白': '山阴之秋'}\n",
      "{}\n"
     ]
    }
   ],
   "source": [
    "poet={'李白':'山阴之秋','杜甫':'江南','杜牧':'西江月','白居易':'菩萨蛮'}\n",
    "for i in poet:\n",
    "    print(i,poet.get(i))\n",
    "print('-'*20)\n",
    "for i in poet.values():\n",
    "    print(i)  \n",
    "print('-'*20)\n",
    "for i in poet.keys():\n",
    "    print(i) \n",
    "print('-'*20)\n",
    "for i in poet.items():\n",
    "    print(i) \n",
    "print('李白'in poet)\n",
    "print('李白'in poet.keys())\n",
    "print('江南'in poet.values())\n",
    "print(('杜甫','江南') in poet.items())\n",
    "    \n",
    "#字典的排序\n",
    "poet={'李白':'山阴之秋','杜甫':'江南','杜牧':'西江月','白居易':'菩萨蛮'}\n",
    "print(sorted(poet.items(),key=lambda x:x[0]))\n",
    "x=len(poet)\n",
    "for i in range(x):\n",
    "    poet.popitem()\n",
    "    print(poet)    \n",
    "    \n",
    "\n"
   ]
  },
  {
   "cell_type": "markdown",
   "metadata": {},
   "source": [
    "第四章 数据维度"
   ]
  },
  {
   "cell_type": "markdown",
   "metadata": {},
   "source": [
    "第五章 一维数据处理"
   ]
  },
  {
   "cell_type": "code",
   "execution_count": null,
   "metadata": {},
   "outputs": [],
   "source": [
    "a='98,78,84,72,93,95'\n",
    "a = a.split(',')\n",
    "print(a)\n",
    "b='、'.join(a)\n",
    "print(b)\n",
    "# f =open('python等级考试三级','w')\n",
    "# f.write(b)\n",
    "# f.close()\n",
    "\n"
   ]
  },
  {
   "cell_type": "markdown",
   "metadata": {},
   "source": [
    "第六章 二维数据处理"
   ]
  },
  {
   "cell_type": "code",
   "execution_count": null,
   "metadata": {},
   "outputs": [],
   "source": [
    "message2=[\n",
    "    ['姓名','年龄','身高','体重','分数'],\n",
    "    ['李志雨','20','184','65','9'],\n",
    "    ['王家益','19','165','5.1','9.5'],\n",
    "    ['李恒涛','21','175','68','8.8']\n",
    "]\n",
    "f=open('考试信息.csv','w')\n",
    "for i in message2:\n",
    "    f.write(','.join(i)+'\\n')\n",
    "f.close()    \n",
    "    \n",
    "ls1=[]\n",
    "f=open('考试信息.csv','r')\n",
    "for i in f:\n",
    "    l=  i.strip().split(',')\n",
    "    ls1.append(l)\n",
    "f.close()\n",
    "print(ls1)\n",
    "\n",
    "import csv\n",
    "f=open('考试信息.csv','r')\n",
    "reader=csv.DictReader(f)\n",
    "for i in reader:\n",
    "    print(i)\n",
    "f.close()"
   ]
  },
  {
   "cell_type": "code",
   "execution_count": 11,
   "metadata": {},
   "outputs": [
    {
     "name": "stdout",
     "output_type": "stream",
     "text": [
      "体重\n",
      "65\n",
      "5.1\n",
      "68\n"
     ]
    }
   ],
   "source": [
    "import csv\n",
    "message2=[\n",
    "    ['姓名','年龄','身高','体重','分数'],\n",
    "    ['李志雨','20','184','65','9'],\n",
    "    ['王家益','19','165','5.1','9.5'],\n",
    "    ['李恒涛','21','175','68','8.8']\n",
    "]\n",
    "f=open('城市人口.csv','w',newline='')\n",
    "writer=csv.writer(f)\n",
    "writer.writerows(message2)\n",
    "f.close()\n",
    "\n",
    "f=open('城市人口.csv','r')\n",
    "reader=csv.reader(f)\n",
    "for i in reader:\n",
    "    if not i: \n",
    "        print(i)\n",
    "        continue \n",
    "    print(i[3])\n",
    "f.close()\n",
    "\n",
    "\n"
   ]
  },
  {
   "cell_type": "markdown",
   "metadata": {},
   "source": [
    "第七章 高维数据处理"
   ]
  },
  {
   "cell_type": "code",
   "execution_count": 12,
   "metadata": {},
   "outputs": [
    {
     "name": "stdout",
     "output_type": "stream",
     "text": [
      "[\"apple\", \"pear\", \"banana\"] <class 'str'>\n"
     ]
    }
   ],
   "source": [
    "import json\n",
    "l1=['apple','pear','banana']\n",
    "j0=json.dumps(l1)\n",
    "print(j0,type(j0))"
   ]
  },
  {
   "cell_type": "markdown",
   "metadata": {},
   "source": [
    "第八章 文本处理"
   ]
  },
  {
   "cell_type": "code",
   "execution_count": 13,
   "metadata": {},
   "outputs": [
    {
     "name": "stdout",
     "output_type": "stream",
     "text": [
      "<re.Match object; span=(0, 3), match='123'> None <re.Match object; span=(3, 6), match='123'>\n",
      "<re.Match object; span=(0, 22), match='Stphen William Hawking'> ('Stphen', 'William', 'Hawking')\n",
      "<re.Match object; span=(0, 22), match='Stphen William Hawking'> ()\n",
      "[' ', ' ', ',', ' ', '.', '爱', '屋', '及', '乌']\n",
      "['Wooow', 'you are so cute!']\n"
     ]
    }
   ],
   "source": [
    "import re \n",
    "dn=r'\\d{3}'\n",
    "a=re.match(dn,'123木头人')\n",
    "b=re.match(dn,'木头人123')\n",
    "c=re.search(dn,'木头人123')\n",
    "print(a,b,c)\n",
    "s='Stphen William Hawking, physicist'\n",
    "m=re.match(r'(\\w+) (\\w+) (\\w+)',s)\n",
    "n=re.match(r'\\w+ \\w+ \\w+',s)\n",
    "print(m,m.groups())\n",
    "print(n,n.groups())\n",
    "\n",
    "prog=re.compile('[^a-zA-Z]')#匹配非字母\n",
    "sentence='Stphen William Hawking, physicist.爱屋及乌'\n",
    "result=re.findall(prog,sentence)\n",
    "print(result)\n",
    "\n",
    "w='Wooow, you are so cute!'\n",
    "t=re.split(r'\\W{2}',w)\n",
    "print(t)"
   ]
  },
  {
   "cell_type": "markdown",
   "metadata": {},
   "source": [
    "第九章 数据爬取"
   ]
  },
  {
   "cell_type": "code",
   "execution_count": null,
   "metadata": {},
   "outputs": [],
   "source": []
  },
  {
   "cell_type": "markdown",
   "metadata": {},
   "source": [
    "第十章 HTML数据"
   ]
  },
  {
   "cell_type": "code",
   "execution_count": null,
   "metadata": {},
   "outputs": [],
   "source": [
    "import requests\n",
    "from bs4 import BeautifulSoup\n",
    "r=requests.get('http://www.baidu.com')\n",
    "r.encoding='utf-8'\n",
    "soup=BeautifulSoup(r.text,features='html.parser')\n",
    "print(soup.title)\n",
    "print(soup.img)\n",
    "\n",
    "for i in soup.find_all('body'):\n",
    "    for c in (i.children):\n",
    "        print(c.name)"
   ]
  },
  {
   "cell_type": "markdown",
   "metadata": {},
   "source": [
    "第十一章 向量数据"
   ]
  },
  {
   "cell_type": "code",
   "execution_count": 14,
   "metadata": {},
   "outputs": [
    {
     "name": "stdout",
     "output_type": "stream",
     "text": [
      "[[[-1.07217206 -0.53904968]\n",
      "  [-0.40535791 -0.32027094]\n",
      "  [ 2.75584023 -1.51453267]]\n",
      "\n",
      " [[-0.34139405 -0.23416474]\n",
      "  [-0.88908869  0.18041436]\n",
      "  [-1.25517151  1.15468054]]\n",
      "\n",
      " [[ 0.11199207 -1.45540736]\n",
      "  [-0.55457455  0.32573902]\n",
      "  [-0.43769225  0.64882359]]\n",
      "\n",
      " [[ 0.63108675 -0.67689004]\n",
      "  [-0.07856     0.11109993]\n",
      "  [ 1.70052142  0.58918963]]]\n",
      "********************\n",
      "[[ 0.63108675 -0.23416474]\n",
      " [-0.07856     0.32573902]\n",
      " [ 2.75584023  1.15468054]]\n",
      "********************\n",
      "[[ 2.75584023 -0.32027094]\n",
      " [-0.34139405  1.15468054]\n",
      " [ 0.11199207  0.64882359]\n",
      " [ 1.70052142  0.58918963]]\n",
      "********************\n",
      "[[-0.53904968 -0.32027094  2.75584023]\n",
      " [-0.23416474  0.18041436  1.15468054]\n",
      " [ 0.11199207  0.32573902  0.64882359]\n",
      " [ 0.63108675  0.11109993  1.70052142]]\n",
      "********************\n",
      "2.7558402328936658\n"
     ]
    }
   ],
   "source": [
    "import numpy as np\n",
    "a=np.random.randn(4,3,2)\n",
    "print(a)\n",
    "print(\"*\"*20)\n",
    "print(np.max(a,axis=0))\n",
    "print(\"*\"*20)\n",
    "print(np.max(a,axis=1))\n",
    "print(\"*\"*20)\n",
    "print(np.max(a,axis=2))\n",
    "print(\"*\"*20)\n",
    "print(np.max(a))\n",
    "\n",
    "o1=np.zeros((2,3))\n",
    "o2=np.ones((2,1))\n",
    "oo=np.concatenate((o1,o2),axis=1)\n",
    "# oo = o1+o2\n",
    "# print(o1)\n",
    "# print(o2)\n",
    "# print(oo,oo.shape)"
   ]
  },
  {
   "cell_type": "markdown",
   "metadata": {},
   "source": [
    "第十二章 图形数据"
   ]
  },
  {
   "cell_type": "code",
   "execution_count": null,
   "metadata": {},
   "outputs": [],
   "source": [
    "from PIL import Image\n",
    "from PIL import ImageEnhance\n",
    "from PIL import ImageFilter\n",
    "Im=Image.open('1.jpg')\n",
    "im2=Im.filter(ImageFilter.EMBOSS)\n",
    "im3=Im.crop((200,60,470,350))\n",
    "im3.show()\n",
    "#Im.show()\n",
    "# im2=ImageEnhance.Color(Im)\n",
    "# im2=ImageEnhance.Contrast(Im)\n",
    "# im3=im2.enhance(10)\n",
    "# im3.show()"
   ]
  },
  {
   "cell_type": "code",
   "execution_count": null,
   "metadata": {},
   "outputs": [],
   "source": [
    "a=int(input('s'))\n",
    "\n",
    "b=0\n",
    "for i in range(10): \n",
    "    if a==1.0:\n",
    "        print(b)\n",
    "    if a%2!=0:\n",
    "        a=a*3+1\n",
    "    a/2\n",
    "    b+1    \n",
    "print(a)\n",
    "    "
   ]
  }
 ],
 "metadata": {
  "kernelspec": {
   "display_name": "Python 3.8.5 ('base')",
   "language": "python",
   "name": "python3"
  },
  "language_info": {
   "codemirror_mode": {
    "name": "ipython",
    "version": 3
   },
   "file_extension": ".py",
   "mimetype": "text/x-python",
   "name": "python",
   "nbconvert_exporter": "python",
   "pygments_lexer": "ipython3",
   "version": "3.8.5"
  },
  "orig_nbformat": 4,
  "vscode": {
   "interpreter": {
    "hash": "ad2bdc8ecc057115af97d19610ffacc2b4e99fae6737bb82f5d7fb13d2f2c186"
   }
  }
 },
 "nbformat": 4,
 "nbformat_minor": 2
}
