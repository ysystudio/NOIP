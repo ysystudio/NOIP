{
 "cells": [
  {
   "cell_type": "code",
   "execution_count": 2,
   "metadata": {},
   "outputs": [
    {
     "name": "stdout",
     "output_type": "stream",
     "text": [
      "{'x': 75, 'y': 68, 'z': 80, 'a': 100, 'b': 87, 'c': 77}\n",
      "[(75, 'x'), (68, 'y'), (80, 'z'), (100, 'a'), (87, 'b'), (77, 'c')]\n"
     ]
    }
   ],
   "source": [
    "from random import randint\n",
    "d = {i:randint(60,100) for i in 'xyzabc'}\n",
    "\n",
    "print(d)\n",
    "\n",
    "t = [( v ,k) for k,v in d.items()]\n",
    "print(t)"
   ]
  },
  {
   "cell_type": "code",
   "execution_count": null,
   "metadata": {},
   "outputs": [],
   "source": []
  }
 ],
 "metadata": {
  "interpreter": {
   "hash": "005df299492829228ecac478ddeb927fbfca948e32597638daeb6787df049480"
  },
  "kernelspec": {
   "display_name": "Python 3.9.12 ('base')",
   "language": "python",
   "name": "python3"
  },
  "language_info": {
   "codemirror_mode": {
    "name": "ipython",
    "version": 3
   },
   "file_extension": ".py",
   "mimetype": "text/x-python",
   "name": "python",
   "nbconvert_exporter": "python",
   "pygments_lexer": "ipython3",
   "version": "3.9.12"
  },
  "orig_nbformat": 4
 },
 "nbformat": 4,
 "nbformat_minor": 2
}
